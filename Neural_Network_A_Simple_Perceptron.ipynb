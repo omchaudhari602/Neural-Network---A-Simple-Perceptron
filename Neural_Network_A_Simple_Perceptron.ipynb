{
  "nbformat": 4,
  "nbformat_minor": 0,
  "metadata": {
    "colab": {
      "provenance": []
    },
    "kernelspec": {
      "name": "python3",
      "display_name": "Python 3"
    },
    "language_info": {
      "name": "python"
    }
  },
  "cells": [
    {
      "cell_type": "markdown",
      "source": [
        "1. What is Deep Learning? Briefly describe how it evolved and how it differs\n",
        "from traditional machine learning.\n",
        "\n",
        "ans :\n",
        "\n",
        "#### What is Deep Learning?\n",
        "\n",
        "**Deep Learning** is a subfield of **Machine Learning (ML)** that uses **artificial neural networks** with many layers (hence 'deep') to automatically learn patterns and representations from large amounts of data.\n",
        "\n",
        "It is particularly effective for complex tasks like:\n",
        "- Image and speech recognition  \n",
        "- Natural language processing  \n",
        "- Autonomous driving  \n",
        "\n",
        "\n",
        "####  Evolution of Deep Learning\n",
        "\n",
        "1. **1950s-1980s:**  \n",
        "   - Early neural network models like the **Perceptron** were introduced.  \n",
        "   - Limited by computational power and small datasets.\n",
        "\n",
        "2. **1990s-2000s:**  \n",
        "   - Emergence of **support vector machines (SVMs)** and other traditional ML methods.  \n",
        "   - Neural networks fell out of favor due to inefficiency.\n",
        "\n",
        "3. **2010s-Present:**  \n",
        "   - Revival of neural networks as **Deep Learning**, thanks to:\n",
        "     - Faster GPUs\n",
        "     - Big data availability\n",
        "     - Improved algorithms (e.g., ReLU, Dropout, CNNs, RNNs)\n",
        "\n",
        "---\n",
        "\n",
        "##  Difference Between Traditional ML and Deep Learning\n",
        "\n",
        "| Aspect | Traditional Machine Learning | Deep Learning |\n",
        "|:-------|:-----------------------------|:---------------|\n",
        "| **Feature Extraction** | Manual (requires domain expertise) | Automatic (learned from data) |\n",
        "| **Data Requirement** | Works with smaller datasets | Requires large datasets |\n",
        "| **Computation** | Less computationally intensive | Needs powerful hardware (e.g., GPUs) |\n",
        "| **Performance** | Limited on complex tasks | Excels in high-dimensional, complex data |\n",
        "| **Examples** | Decision Trees, SVM, KNN | CNN, RNN, Transformers |\n",
        "\n",
        "---\n",
        "\n",
        "\n",
        "2. Explain the basic architecture and functioning of a Perceptron. What are its\n",
        "limitations?\n",
        "\n",
        "\n",
        "ans:\n",
        "\n",
        "A Perceptron is the simplest type of artificial neural network model, mainly used for binary classification. It consists of input layer, weights, a bias, a summation function, and an activation function.\n",
        "\n",
        "###### How it works:\n",
        "\n",
        "1. It takes multiple input values (x₁, x₂, x₃, …).\n",
        "\n",
        "2. Each input is multiplied by a corresponding weight (w₁, w₂, w₃, …).\n",
        "\n",
        "3. A weighted sum is calculated:\n",
        "\n",
        "  \\[\n",
        "  z = w_1x_1 + w_2x_2 +... + w_nx_n + b\n",
        "  \\]\n",
        "\n",
        "4. The sum is passed to an activation function (usually Step Function).\n",
        "\n",
        "5. Output is generated as either 0 or 1 based on a threshold.\n",
        "\n",
        "6. During training, weights are updated to reduce classification error.\n",
        "\n",
        "###Limitations of Perceptron\n",
        "\n",
        "* Can solve only linearly separable problems (fails on XOR problem).\n",
        "\n",
        "* Uses a simple step activation — cannot perform complex pattern learning.\n",
        "\n",
        "* Limited capability since it has only one layer (no hidden layers).\n",
        "\n",
        "* Slow or fails to converge if data is not perfectly separable.\n",
        "\n",
        "* Not suitable for tasks like image recognition, speech, or language processing.\n",
        "\n",
        "---\n",
        "\n",
        "\n",
        "\n",
        "3. Describe the purpose of activation function in neural networks. Compare\n",
        "Sigmoid, ReLU, and Tanh functions.\n",
        "\n",
        "ans:\n",
        "### Activation Functions in Neural Networks\n",
        "\n",
        "###  Purpose\n",
        "Activation functions introduce **non-linearity** into neural networks.  \n",
        "They allow the model to learn **complex patterns** beyond simple linear relationships.\n",
        "\n",
        "Without activation functions -- the network behaves like a **linear model**, no matter how many layers it has.\n",
        "\n",
        "#### Common Activation Functions\n",
        "\n",
        "| Function | Formula | Range | Key Features | Limitations |\n",
        "|:----------|:----------|:--------|:----------------|:--------------|\n",
        "| **Sigmoid** | \\( f(x) = \\frac{1}{1 + e^{-x}} \\) | (0, 1) | Smooth, used in output layers for probabilities | Causes **vanishing gradients** for large |x| |\n",
        "| **Tanh** | \\( f(x) = \\frac{e^{x} - e^{-x}}{e^{x} + e^{-x}} \\) | (-1, 1) | Zero-centered output, stronger gradients than Sigmoid | Still suffers from vanishing gradients |\n",
        "| **ReLU** | \\( f(x) = \\max(0, x) \\) | [0, ∞) | Simple, efficient, avoids vanishing gradient for positive x | Can cause **dead neurons** (outputs 0 for x<0) |\n",
        "\n",
        "---\n",
        "---\n",
        "\n",
        "4. What is the difference between Loss function and Cost function in neural\n",
        "networks? Provide examples.\n",
        "\n",
        "ans\n",
        "### Difference Between Loss Function and Cost Function\n",
        "\n",
        "###  Purpose\n",
        "Both **Loss** and **Cost** functions measure how well a neural network performs,  \n",
        "but they differ in scope of calculation.\n",
        "\n",
        "---\n",
        "\n",
        "### Key Difference\n",
        "\n",
        "| Aspect | **Loss Function** | **Cost Function** |\n",
        "|:--------|:------------------|:------------------|\n",
        "| **Definition** | Measures the error for **a single training example** | Measures the **average loss over all training examples** |\n",
        "| **Scope** | Individual sample | Entire dataset or batch |\n",
        "| **Usage** | Used to compute gradient for one sample | Used to evaluate model performance during training |\n",
        "| **Formula** | \\( L_i = f(y_i, \\hat{y_i}) \\) | \\( J = \\frac{1}{n} \\sum_{i=1}^{n} L_i \\) |\n",
        "\n",
        "---\n",
        "\n",
        "##  Examples\n",
        "\n",
        "| Type | Example Function | Formula |\n",
        "|:------|:------------------|:-----------|\n",
        "| **Loss Function** | Mean Squared Error (MSE) for one sample | \\( L = (y - \\hat{y})^2 \\) |\n",
        "| **Cost Function** | Average MSE over all samples | \\( J = \\frac{1}{n} \\sum (y_i - \\hat{y_i})^2 \\) |\n",
        "\n",
        "---\n",
        "\n",
        "5. What is the role of optimizers in neural networks? Compare Gradient\n",
        "Descent, Adam, and RMSprop.\n",
        "\n",
        "ans:\n",
        "\n",
        "### Role of Optimizers in Neural Networks\n",
        "\n",
        "#### Purpose\n",
        "**Optimizers** adjust the **weights and biases** of a neural network to **minimize the loss function**.  \n",
        "They control *how* and *how fast* the model learns during training.\n",
        "\n",
        "---\n",
        "\n",
        "#### Common Optimizers and Comparison\n",
        "\n",
        "| Optimizer | Key Idea | Formula / Update Rule | Pros | Cons |\n",
        "|:-----------|:-----------|:----------------------|:------|:------|\n",
        "| **Gradient Descent (GD)** | Updates weights in direction of negative gradient | \\( w = w - \\eta \\frac{\\partial L}{\\partial w} \\) | Simple and effective for small datasets | Slow, may get stuck in local minima |\n",
        "| **RMSprop** | Uses moving average of squared gradients to adjust learning rate | \\( w = w - \\frac{\\eta}{\\sqrt{E[g^2]} + \\epsilon} g \\) | Works well for non-stationary problems (e.g. RNNs) | May still need tuning of parameters |\n",
        "| **Adam (Adaptive Moment Estimation)** | Combines **Momentum** + **RMSprop** ideas | Uses running averages of gradient (m) and squared gradient (v) | Fast convergence, widely used | Can sometimes overfit or overshoot |\n",
        "\n",
        "---\n",
        "\n",
        "#### Summary\n",
        "- **Gradient Descent:** Basic and foundational.  \n",
        "- **RMSprop:** Adapts learning rate for each parameter.  \n",
        "- **Adam:** Most popular — adaptive, fast, and efficient.\n",
        "\n",
        "---\n",
        "\n",
        "6. Write a Python program to implement a single-layer perceptron from\n",
        "scratch using NumPy to solve the logical AND gate.\n",
        "\n",
        "ans:\n",
        "\n"
      ],
      "metadata": {
        "id": "feRDmpzIBVgZ"
      }
    },
    {
      "cell_type": "code",
      "execution_count": 1,
      "metadata": {
        "colab": {
          "base_uri": "https://localhost:8080/"
        },
        "id": "rslo9BLm-aJH",
        "outputId": "ddc2aeac-412d-493b-f095-e105f5a609fb"
      },
      "outputs": [
        {
          "output_type": "stream",
          "name": "stdout",
          "text": [
            "Training Complete!\n",
            "Final Weights: [0.2 0.1]\n",
            "Final Bias: -0.20000000000000004\n",
            "\n",
            "Testing AND Gate:\n",
            "[0 0] -> 0\n",
            "[0 1] -> 0\n",
            "[1 0] -> 0\n",
            "[1 1] -> 1\n"
          ]
        }
      ],
      "source": [
        "import numpy as np\n",
        "\n",
        "X = np.array([[0, 0],\n",
        "              [0, 1],\n",
        "              [1, 0],\n",
        "              [1, 1]])\n",
        "\n",
        "y = np.array([0, 0, 0, 1])\n",
        "\n",
        "weights = np.zeros(X.shape[1])\n",
        "bias = 0\n",
        "learning_rate = 0.1\n",
        "epochs = 10\n",
        "\n",
        "def activation(z):\n",
        "    return 1 if z >= 0 else 0\n",
        "\n",
        "for epoch in range(epochs):\n",
        "    for i in range(len(X)):\n",
        "        z = np.dot(X[i], weights) + bias\n",
        "        y_pred = activation(z)\n",
        "        error = y[i] - y_pred\n",
        "        weights += learning_rate * error * X[i]\n",
        "        bias += learning_rate * error\n",
        "\n",
        "print(\"Training Complete!\")\n",
        "print(\"Final Weights:\", weights)\n",
        "print(\"Final Bias:\", bias)\n",
        "\n",
        "print(\"\\nTesting AND Gate:\")\n",
        "for i in range(len(X)):\n",
        "    z = np.dot(X[i], weights) + bias\n",
        "    y_pred = activation(z)\n",
        "    print(f\"{X[i]} -> {y_pred}\")\n"
      ]
    },
    {
      "cell_type": "markdown",
      "source": [
        "\n",
        "\n",
        "---\n",
        "\n",
        "7.  Implement and visualize Sigmoid, ReLU, and Tanh activation functions\n",
        "using Matplotlib.\n",
        "\n",
        "ans:\n",
        "\n",
        "\n"
      ],
      "metadata": {
        "id": "IhbpUUbPEM2u"
      }
    },
    {
      "cell_type": "code",
      "source": [
        "import numpy as np\n",
        "import matplotlib.pyplot as plt\n",
        "\n",
        "# Input range\n",
        "x = np.linspace(-10, 10, 200)\n",
        "\n",
        "# Activation functions\n",
        "sigmoid = 1 / (1 + np.exp(-x))\n",
        "relu = np.maximum(0, x)\n",
        "tanh = np.tanh(x)\n",
        "\n",
        "# Plotting\n",
        "plt.figure(figsize=(10, 6))\n",
        "\n",
        "plt.plot(x, sigmoid, label=\"Sigmoid\")\n",
        "plt.plot(x, relu, label=\"ReLU\")\n",
        "plt.plot(x, tanh, label=\"Tanh\")\n",
        "\n",
        "plt.title(\"Activation Functions\")\n",
        "plt.xlabel(\"Input\")\n",
        "plt.ylabel(\"Output\")\n",
        "plt.grid(True)\n",
        "plt.legend()\n",
        "plt.show()\n"
      ],
      "metadata": {
        "colab": {
          "base_uri": "https://localhost:8080/",
          "height": 564
        },
        "id": "BwAI3NJmEHU_",
        "outputId": "a7923367-c65b-4ee6-ab62-7adc4ee2ae93"
      },
      "execution_count": 2,
      "outputs": [
        {
          "output_type": "display_data",
          "data": {
            "text/plain": [
              "<Figure size 1000x600 with 1 Axes>"
            ],
            "image/png": "[encoded data removed]"
          },
          "metadata": {}
        }
      ]
    },
    {
      "cell_type": "markdown",
      "source": [
        "\n",
        "\n",
        "---\n",
        "\n",
        "8. Use Keras to build and train a simple multilayer neural network on the\n",
        "MNIST digits dataset. Print the training accuracy.\n",
        "\n",
        "ans:"
      ],
      "metadata": {
        "id": "H2H-nlYHEZQk"
      }
    },
    {
      "cell_type": "code",
      "source": [
        "import tensorflow as tf\n",
        "from tensorflow.keras.datasets import mnist\n",
        "from tensorflow.keras.models import Sequential\n",
        "from tensorflow.keras.layers import Dense, Flatten\n",
        "\n",
        "(x_train, y_train), (_, _) = mnist.load_data()\n",
        "x_train = x_train / 255.0\n",
        "\n",
        "model = Sequential([\n",
        "    Flatten(input_shape=(28, 28)),\n",
        "    Dense(128, activation='relu'),\n",
        "    Dense(10, activation='softmax')\n",
        "])\n",
        "\n",
        "model.compile(optimizer='adam',\n",
        "              loss='sparse_categorical_crossentropy',\n",
        "              metrics=['accuracy'])\n",
        "\n",
        "history = model.fit(x_train, y_train, epochs=5, batch_size=32, verbose=1)\n",
        "\n",
        "train_acc = history.history['accuracy'][-1]\n",
        "print(\"Training Accuracy:\", train_acc)\n"
      ],
      "metadata": {
        "colab": {
          "base_uri": "https://localhost:8080/"
        },
        "id": "KgVY2eoaEVkt",
        "outputId": "a2f0352c-a262-4c06-dbe3-2cbad812821f"
      },
      "execution_count": 3,
      "outputs": [
        {
          "output_type": "stream",
          "name": "stdout",
          "text": [
            "Downloading data from https://storage.googleapis.com/tensorflow/tf-keras-datasets/mnist.npz\n",
            "\u001b[1m11490434/11490434\u001b[0m \u001b[32m━━━━━━━━━━━━━━━━━━━━\u001b[0m\u001b[37m\u001b[0m \u001b[1m0s\u001b[0m 0us/step\n"
          ]
        },
        {
          "output_type": "stream",
          "name": "stderr",
          "text": [
            "/usr/local/lib/python3.12/dist-packages/keras/src/layers/reshaping/flatten.py:37: UserWarning: Do not pass an `input_shape`/`input_dim` argument to a layer. When using Sequential models, prefer using an `Input(shape)` object as the first layer in the model instead.\n",
            "  super().__init__(**kwargs)\n"
          ]
        },
        {
          "output_type": "stream",
          "name": "stdout",
          "text": [
            "Epoch 1/5\n",
            "\u001b[1m1875/1875\u001b[0m \u001b[32m━━━━━━━━━━━━━━━━━━━━\u001b[0m\u001b[37m\u001b[0m \u001b[1m10s\u001b[0m 5ms/step - accuracy: 0.8830 - loss: 0.4201\n",
            "Epoch 2/5\n",
            "\u001b[1m1875/1875\u001b[0m \u001b[32m━━━━━━━━━━━━━━━━━━━━\u001b[0m\u001b[37m\u001b[0m \u001b[1m11s\u001b[0m 5ms/step - accuracy: 0.9650 - loss: 0.1189\n",
            "Epoch 3/5\n",
            "\u001b[1m1875/1875\u001b[0m \u001b[32m━━━━━━━━━━━━━━━━━━━━\u001b[0m\u001b[37m\u001b[0m \u001b[1m8s\u001b[0m 4ms/step - accuracy: 0.9771 - loss: 0.0773\n",
            "Epoch 4/5\n",
            "\u001b[1m1875/1875\u001b[0m \u001b[32m━━━━━━━━━━━━━━━━━━━━\u001b[0m\u001b[37m\u001b[0m \u001b[1m8s\u001b[0m 5ms/step - accuracy: 0.9824 - loss: 0.0566\n",
            "Epoch 5/5\n",
            "\u001b[1m1875/1875\u001b[0m \u001b[32m━━━━━━━━━━━━━━━━━━━━\u001b[0m\u001b[37m\u001b[0m \u001b[1m9s\u001b[0m 5ms/step - accuracy: 0.9877 - loss: 0.0403\n",
            "Training Accuracy: 0.9868999719619751\n"
          ]
        }
      ]
    },
    {
      "cell_type": "markdown",
      "source": [
        "\n",
        "\n",
        "---\n",
        "\n",
        "9. Visualize the loss and accuracy curves for a neural network model trained\n",
        "on the Fashion MNIST dataset. Interpret the training behavior.\n",
        "\n",
        "ans:\n",
        "\n"
      ],
      "metadata": {
        "id": "nGtUFNvuEu-D"
      }
    },
    {
      "cell_type": "code",
      "source": [
        "import tensorflow as tf\n",
        "from tensorflow.keras.datasets import fashion_mnist\n",
        "from tensorflow.keras.models import Sequential\n",
        "from tensorflow.keras.layers import Dense, Flatten\n",
        "import matplotlib.pyplot as plt\n",
        "\n",
        "(x_train, y_train), (x_test, y_test) = fashion_mnist.load_data()\n",
        "x_train = x_train / 255.0\n",
        "x_test = x_test / 255.0\n",
        "\n",
        "model = Sequential([\n",
        "    Flatten(input_shape=(28, 28)),\n",
        "    Dense(128, activation='relu'),\n",
        "    Dense(10, activation='softmax')\n",
        "])\n",
        "\n",
        "model.compile(optimizer='adam',\n",
        "              loss='sparse_categorical_crossentropy',\n",
        "              metrics=['accuracy'])\n",
        "\n",
        "history = model.fit(x_train, y_train, epochs=10, batch_size=32, verbose=1)\n",
        "\n",
        "plt.figure()\n",
        "plt.plot(history.history['accuracy'], label=\"Training Accuracy\")\n",
        "plt.title(\"Training Accuracy Curve\")\n",
        "plt.xlabel(\"Epochs\")\n",
        "plt.ylabel(\"Accuracy\")\n",
        "plt.grid(True)\n",
        "plt.legend()\n",
        "plt.show()\n",
        "\n",
        "plt.figure()\n",
        "plt.plot(history.history['loss'], label=\"Training Loss\")\n",
        "plt.title(\"Training Loss Curve\")\n",
        "plt.xlabel(\"Epochs\")\n",
        "plt.ylabel(\"Loss\")\n",
        "plt.grid(True)\n",
        "plt.legend()\n",
        "plt.show()\n"
      ],
      "metadata": {
        "colab": {
          "base_uri": "https://localhost:8080/",
          "height": 1000
        },
        "id": "iOblyUZ4EqLd",
        "outputId": "675d6712-a842-438f-8f2e-8434ebfad1bb"
      },
      "execution_count": 4,
      "outputs": [
        {
          "output_type": "stream",
          "name": "stdout",
          "text": [
            "Downloading data from https://storage.googleapis.com/tensorflow/tf-keras-datasets/train-labels-idx1-ubyte.gz\n",
            "\u001b[1m29515/29515\u001b[0m \u001b[32m━━━━━━━━━━━━━━━━━━━━\u001b[0m\u001b[37m\u001b[0m \u001b[1m0s\u001b[0m 0us/step\n",
            "Downloading data from https://storage.googleapis.com/tensorflow/tf-keras-datasets/train-images-idx3-ubyte.gz\n",
            "\u001b[1m26421880/26421880\u001b[0m \u001b[32m━━━━━━━━━━━━━━━━━━━━\u001b[0m\u001b[37m\u001b[0m \u001b[1m0s\u001b[0m 0us/step\n",
            "Downloading data from https://storage.googleapis.com/tensorflow/tf-keras-datasets/t10k-labels-idx1-ubyte.gz\n",
            "\u001b[1m5148/5148\u001b[0m \u001b[32m━━━━━━━━━━━━━━━━━━━━\u001b[0m\u001b[37m\u001b[0m \u001b[1m0s\u001b[0m 0us/step\n",
            "Downloading data from https://storage.googleapis.com/tensorflow/tf-keras-datasets/t10k-images-idx3-ubyte.gz\n",
            "\u001b[1m4422102/4422102\u001b[0m \u001b[32m━━━━━━━━━━━━━━━━━━━━\u001b[0m\u001b[37m\u001b[0m \u001b[1m0s\u001b[0m 0us/step\n",
            "Epoch 1/10\n",
            "\u001b[1m1875/1875\u001b[0m \u001b[32m━━━━━━━━━━━━━━━━━━━━\u001b[0m\u001b[37m\u001b[0m \u001b[1m9s\u001b[0m 4ms/step - accuracy: 0.7815 - loss: 0.6265\n",
            "Epoch 2/10\n",
            "\u001b[1m1875/1875\u001b[0m \u001b[32m━━━━━━━━━━━━━━━━━━━━\u001b[0m\u001b[37m\u001b[0m \u001b[1m9s\u001b[0m 5ms/step - accuracy: 0.8583 - loss: 0.3885\n",
            "Epoch 3/10\n",
            "\u001b[1m1875/1875\u001b[0m \u001b[32m━━━━━━━━━━━━━━━━━━━━\u001b[0m\u001b[37m\u001b[0m \u001b[1m8s\u001b[0m 4ms/step - accuracy: 0.8758 - loss: 0.3384\n",
            "Epoch 4/10\n",
            "\u001b[1m1875/1875\u001b[0m \u001b[32m━━━━━━━━━━━━━━━━━━━━\u001b[0m\u001b[37m\u001b[0m \u001b[1m8s\u001b[0m 4ms/step - accuracy: 0.8868 - loss: 0.3146\n",
            "Epoch 5/10\n",
            "\u001b[1m1875/1875\u001b[0m \u001b[32m━━━━━━━━━━━━━━━━━━━━\u001b[0m\u001b[37m\u001b[0m \u001b[1m9s\u001b[0m 5ms/step - accuracy: 0.8925 - loss: 0.2917\n",
            "Epoch 6/10\n",
            "\u001b[1m1875/1875\u001b[0m \u001b[32m━━━━━━━━━━━━━━━━━━━━\u001b[0m\u001b[37m\u001b[0m \u001b[1m10s\u001b[0m 5ms/step - accuracy: 0.8946 - loss: 0.2838\n",
            "Epoch 7/10\n",
            "\u001b[1m1875/1875\u001b[0m \u001b[32m━━━━━━━━━━━━━━━━━━━━\u001b[0m\u001b[37m\u001b[0m \u001b[1m8s\u001b[0m 4ms/step - accuracy: 0.9012 - loss: 0.2641\n",
            "Epoch 8/10\n",
            "\u001b[1m1875/1875\u001b[0m \u001b[32m━━━━━━━━━━━━━━━━━━━━\u001b[0m\u001b[37m\u001b[0m \u001b[1m8s\u001b[0m 4ms/step - accuracy: 0.9066 - loss: 0.2554\n",
            "Epoch 9/10\n",
            "\u001b[1m1875/1875\u001b[0m \u001b[32m━━━━━━━━━━━━━━━━━━━━\u001b[0m\u001b[37m\u001b[0m \u001b[1m8s\u001b[0m 4ms/step - accuracy: 0.9093 - loss: 0.2450\n",
            "Epoch 10/10\n",
            "\u001b[1m1875/1875\u001b[0m \u001b[32m━━━━━━━━━━━━━━━━━━━━\u001b[0m\u001b[37m\u001b[0m \u001b[1m7s\u001b[0m 4ms/step - accuracy: 0.9099 - loss: 0.2425\n"
          ]
        },
        {
          "output_type": "display_data",
          "data": {
            "text/plain": [
              "<Figure size 640x480 with 1 Axes>"
            ],
            "image/png": "[encoded data removed]"
          },
          "metadata": {}
        },
        {
          "output_type": "display_data",
          "data": {
            "text/plain": [
              "<Figure size 640x480 with 1 Axes>"
            ],
            "image/png": "[encoded data removed]"
          },
          "metadata": {}
        }
      ]
    },
    {
      "cell_type": "markdown",
      "source": [
        "\n",
        "\n",
        "---\n",
        "\n",
        "10. : You are working on a project for a bank that wants to automatically detect\n",
        "fraudulent transactions. The dataset is large, imbalanced, and contains structured\n",
        "features like transaction amount, merchant ID, and customer location. The goal is to\n",
        "classify each transaction as fraudulent or legitimate.\n",
        "\n",
        "\n",
        "Explain your real-time data science workflow:\n",
        "\n",
        "\n",
        "● How would you design a deep learning model (perceptron or multilayer NN)?\n",
        "\n",
        "● Which activation function and loss function would you use, and why?\n",
        "\n",
        "● How would you train and evaluate the model, considering class imbalance?\n",
        "\n",
        "● Which optimizer would be suitable, and how would you prevent overfitting?\n",
        "(Include your Python code and output in the code box below.)\n",
        "\n",
        "\n",
        "ans:\n",
        "\n",
        "###Steps for Fraud Detection Deep Learning Workflow\n",
        "\n",
        "1. Data Preprocessing: Load large imbalanced transaction dataset and normalize features.\n",
        "\n",
        "2. Model Design: Build a Multilayer Neural Network with hidden layers using ReLU activation.\n",
        "\n",
        "3. Output Layer: Use Sigmoid activation for binary fraud classification (0 or 1).\n",
        "\n",
        "4. Loss Function: Apply Binary Cross-Entropy because it’s a binary and imbalanced problem.\n",
        "\n",
        "5. Handle Imbalance: Use class weights or oversampling (like SMOTE) to improve minority-class learning.\n",
        "\n",
        "6. Optimizer: Use Adam optimizer for faster training and better convergence.\n",
        "\n",
        "7. Training Method: Split into training & validation; use dropout + early stopping to avoid overfitting.\n",
        "\n",
        "8. Model Evaluation: Use Precision, Recall, F1-score, and ROC-AUC instead of only accuracy.\n",
        "\n",
        "9. Deployment: Continuously update model with new fraud patterns in real-time banking system.\n"
      ],
      "metadata": {
        "id": "aP4uXjp5E4Nb"
      }
    },
    {
      "cell_type": "code",
      "source": [
        "import numpy as np\n",
        "import tensorflow as tf\n",
        "from tensorflow.keras.models import Sequential\n",
        "from tensorflow.keras.layers import Dense, Dropout\n",
        "from sklearn.metrics import classification_report, accuracy_score\n",
        "from sklearn.model_selection import train_test_split\n",
        "from sklearn.utils.class_weight import compute_class_weight\n",
        "\n",
        "# Synthetic fraud dataset (just for demonstration)\n",
        "np.random.seed(42)\n",
        "X = np.random.rand(10000, 10)\n",
        "y = np.random.choice([0, 1], size=(10000,), p=[0.97, 0.03])\n",
        "\n",
        "X_train, X_test, y_train, y_test = train_test_split(X, y, test_size=0.2)\n",
        "\n",
        "class_weights = compute_class_weight(\n",
        "    class_weight=\"balanced\",\n",
        "    classes=np.unique(y_train),\n",
        "    y=y_train\n",
        ")\n",
        "class_weights = dict(enumerate(class_weights))\n",
        "\n",
        "model = Sequential([\n",
        "    Dense(64, activation='relu', input_dim=10),\n",
        "    Dropout(0.3),\n",
        "    Dense(32, activation='relu'),\n",
        "    Dropout(0.3),\n",
        "    Dense(1, activation='sigmoid')\n",
        "])\n",
        "\n",
        "model.compile(optimizer='adam',\n",
        "              loss='binary_crossentropy',\n",
        "              metrics=['accuracy'])\n",
        "\n",
        "history = model.fit(X_train, y_train,\n",
        "                    epochs=10,\n",
        "                    batch_size=32,\n",
        "                    class_weight=class_weights,\n",
        "                    validation_split=0.2,\n",
        "                    verbose=1)\n",
        "\n",
        "y_pred = (model.predict(X_test) > 0.5).astype(int)\n",
        "\n",
        "print(\"Accuracy:\", accuracy_score(y_test, y_pred))\n",
        "print(\"\\nClassification Report:\\n\", classification_report(y_test, y_pred))\n"
      ],
      "metadata": {
        "colab": {
          "base_uri": "https://localhost:8080/"
        },
        "id": "dQzIgBy-E2sC",
        "outputId": "c0dae18c-b7e3-4e03-af24-7f1bd78a3948"
      },
      "execution_count": 5,
      "outputs": [
        {
          "output_type": "stream",
          "name": "stdout",
          "text": [
            "Epoch 1/10\n"
          ]
        },
        {
          "output_type": "stream",
          "name": "stderr",
          "text": [
            "/usr/local/lib/python3.12/dist-packages/keras/src/layers/core/dense.py:93: UserWarning: Do not pass an `input_shape`/`input_dim` argument to a layer. When using Sequential models, prefer using an `Input(shape)` object as the first layer in the model instead.\n",
            "  super().__init__(activity_regularizer=activity_regularizer, **kwargs)\n"
          ]
        },
        {
          "output_type": "stream",
          "name": "stdout",
          "text": [
            "\u001b[1m200/200\u001b[0m \u001b[32m━━━━━━━━━━━━━━━━━━━━\u001b[0m\u001b[37m\u001b[0m \u001b[1m5s\u001b[0m 8ms/step - accuracy: 0.7288 - loss: 0.6779 - val_accuracy: 0.1256 - val_loss: 0.7474\n",
            "Epoch 2/10\n",
            "\u001b[1m200/200\u001b[0m \u001b[32m━━━━━━━━━━━━━━━━━━━━\u001b[0m\u001b[37m\u001b[0m \u001b[1m1s\u001b[0m 3ms/step - accuracy: 0.4479 - loss: 0.6906 - val_accuracy: 0.5888 - val_loss: 0.6826\n",
            "Epoch 3/10\n",
            "\u001b[1m200/200\u001b[0m \u001b[32m━━━━━━━━━━━━━━━━━━━━\u001b[0m\u001b[37m\u001b[0m \u001b[1m1s\u001b[0m 3ms/step - accuracy: 0.6940 - loss: 0.6338 - val_accuracy: 0.0988 - val_loss: 0.7596\n",
            "Epoch 4/10\n",
            "\u001b[1m200/200\u001b[0m \u001b[32m━━━━━━━━━━━━━━━━━━━━\u001b[0m\u001b[37m\u001b[0m \u001b[1m1s\u001b[0m 3ms/step - accuracy: 0.2962 - loss: 0.7410 - val_accuracy: 0.7531 - val_loss: 0.6500\n",
            "Epoch 5/10\n",
            "\u001b[1m200/200\u001b[0m \u001b[32m━━━━━━━━━━━━━━━━━━━━\u001b[0m\u001b[37m\u001b[0m \u001b[1m1s\u001b[0m 3ms/step - accuracy: 0.5901 - loss: 0.6936 - val_accuracy: 0.3363 - val_loss: 0.7240\n",
            "Epoch 6/10\n",
            "\u001b[1m200/200\u001b[0m \u001b[32m━━━━━━━━━━━━━━━━━━━━\u001b[0m\u001b[37m\u001b[0m \u001b[1m1s\u001b[0m 3ms/step - accuracy: 0.4851 - loss: 0.6955 - val_accuracy: 0.3613 - val_loss: 0.7133\n",
            "Epoch 7/10\n",
            "\u001b[1m200/200\u001b[0m \u001b[32m━━━━━━━━━━━━━━━━━━━━\u001b[0m\u001b[37m\u001b[0m \u001b[1m1s\u001b[0m 3ms/step - accuracy: 0.4958 - loss: 0.7118 - val_accuracy: 0.4081 - val_loss: 0.7089\n",
            "Epoch 8/10\n",
            "\u001b[1m200/200\u001b[0m \u001b[32m━━━━━━━━━━━━━━━━━━━━\u001b[0m\u001b[37m\u001b[0m \u001b[1m1s\u001b[0m 3ms/step - accuracy: 0.3881 - loss: 0.7339 - val_accuracy: 0.9038 - val_loss: 0.5936\n",
            "Epoch 9/10\n",
            "\u001b[1m200/200\u001b[0m \u001b[32m━━━━━━━━━━━━━━━━━━━━\u001b[0m\u001b[37m\u001b[0m \u001b[1m1s\u001b[0m 3ms/step - accuracy: 0.7354 - loss: 0.6883 - val_accuracy: 0.1756 - val_loss: 0.7621\n",
            "Epoch 10/10\n",
            "\u001b[1m200/200\u001b[0m \u001b[32m━━━━━━━━━━━━━━━━━━━━\u001b[0m\u001b[37m\u001b[0m \u001b[1m1s\u001b[0m 3ms/step - accuracy: 0.4002 - loss: 0.6816 - val_accuracy: 0.2556 - val_loss: 0.7399\n",
            "\u001b[1m63/63\u001b[0m \u001b[32m━━━━━━━━━━━━━━━━━━━━\u001b[0m\u001b[37m\u001b[0m \u001b[1m0s\u001b[0m 2ms/step\n",
            "Accuracy: 0.2585\n",
            "\n",
            "Classification Report:\n",
            "               precision    recall  f1-score   support\n",
            "\n",
            "           0       0.98      0.24      0.39      1944\n",
            "           1       0.03      0.80      0.06        56\n",
            "\n",
            "    accuracy                           0.26      2000\n",
            "   macro avg       0.50      0.52      0.22      2000\n",
            "weighted avg       0.95      0.26      0.38      2000\n",
            "\n"
          ]
        }
      ]
    },
    {
      "cell_type": "code",
      "source": [],
      "metadata": {
        "id": "SNYhIK9UFdf-"
      },
      "execution_count": null,
      "outputs": []
    }
  ]
}